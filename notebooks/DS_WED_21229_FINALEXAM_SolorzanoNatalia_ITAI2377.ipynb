{
 "cells": [
  {
   "cell_type": "markdown",
   "id": "57854f5c",
   "metadata": {},
   "source": [
    "# ITAI 2377 - Data Science in Artificial Intelligence\n",
    "# Professor: Vismantha Rao\n",
    "# Student: Natalia Solorzano Perez W207818526\n",
    "# Spring 2025 - CR: 21229\n",
    "# Final ML Project – Salary Prediction  (Combining My New Midterm Project Submission For Extra Credit)\n",
    "**Author:** Natalia Solorzano  \n",
    "**Course:** ITAI 2377 – DS_WED_21229  \n",
    "**Filename:** DS_WED_21229_FINALEXAM_SolorzanoNatalia_ITAI2377.ipynb  \n",
    "\n",
    "### Problem Statement  \n",
    "Can we predict an individual's salary based on their years of experience using machine learning regression models? Which one is the best model to use?\n"
   ]
  },
  {
   "cell_type": "code",
   "execution_count": 13,
   "id": "9719a28a",
   "metadata": {},
   "outputs": [],
   "source": [
    "import pandas as pd\n",
    "import numpy as np\n",
    "import matplotlib.pyplot as plt\n",
    "import seaborn as sns\n",
    "\n",
    "from sklearn.model_selection import train_test_split\n",
    "from sklearn.preprocessing import StandardScaler\n",
    "from sklearn.metrics import mean_absolute_error, mean_squared_error, r2_score\n",
    "\n",
    "from sklearn.linear_model import LinearRegression\n",
    "from sklearn.tree import DecisionTreeRegressor\n",
    "from sklearn.ensemble import RandomForestRegressor, GradientBoostingRegressor, VotingRegressor\n",
    "from sklearn.neighbors import KNeighborsRegressor\n"
   ]
  },
  {
   "cell_type": "code",
   "execution_count": 14,
   "id": "3dd85ba0",
   "metadata": {},
   "outputs": [
    {
     "data": {
      "text/html": [
       "<div>\n",
       "<style scoped>\n",
       "    .dataframe tbody tr th:only-of-type {\n",
       "        vertical-align: middle;\n",
       "    }\n",
       "\n",
       "    .dataframe tbody tr th {\n",
       "        vertical-align: top;\n",
       "    }\n",
       "\n",
       "    .dataframe thead th {\n",
       "        text-align: right;\n",
       "    }\n",
       "</style>\n",
       "<table border=\"1\" class=\"dataframe\">\n",
       "  <thead>\n",
       "    <tr style=\"text-align: right;\">\n",
       "      <th></th>\n",
       "      <th>unnamed: 0</th>\n",
       "      <th>yearsexperience</th>\n",
       "      <th>salary</th>\n",
       "    </tr>\n",
       "  </thead>\n",
       "  <tbody>\n",
       "    <tr>\n",
       "      <th>0</th>\n",
       "      <td>0</td>\n",
       "      <td>1.2</td>\n",
       "      <td>39344.0</td>\n",
       "    </tr>\n",
       "    <tr>\n",
       "      <th>1</th>\n",
       "      <td>1</td>\n",
       "      <td>1.4</td>\n",
       "      <td>46206.0</td>\n",
       "    </tr>\n",
       "    <tr>\n",
       "      <th>2</th>\n",
       "      <td>2</td>\n",
       "      <td>1.6</td>\n",
       "      <td>37732.0</td>\n",
       "    </tr>\n",
       "    <tr>\n",
       "      <th>3</th>\n",
       "      <td>3</td>\n",
       "      <td>2.1</td>\n",
       "      <td>43526.0</td>\n",
       "    </tr>\n",
       "    <tr>\n",
       "      <th>4</th>\n",
       "      <td>4</td>\n",
       "      <td>2.3</td>\n",
       "      <td>39892.0</td>\n",
       "    </tr>\n",
       "  </tbody>\n",
       "</table>\n",
       "</div>"
      ],
      "text/plain": [
       "   unnamed: 0  yearsexperience   salary\n",
       "0           0              1.2  39344.0\n",
       "1           1              1.4  46206.0\n",
       "2           2              1.6  37732.0\n",
       "3           3              2.1  43526.0\n",
       "4           4              2.3  39892.0"
      ]
     },
     "execution_count": 14,
     "metadata": {},
     "output_type": "execute_result"
    }
   ],
   "source": [
    "# Load dataset\n",
    "df = pd.read_csv(\"Salary_dataset.csv\")\n",
    "\n",
    "# Rename columns to lowercase for consistency\n",
    "df.columns = df.columns.str.lower()\n",
    "\n",
    "# Preview\n",
    "df.head()"
   ]
  },
  {
   "cell_type": "code",
   "execution_count": 15,
   "id": "586a6ce5",
   "metadata": {},
   "outputs": [
    {
     "name": "stdout",
     "output_type": "stream",
     "text": [
      "Missing values in dataset:\n",
      "unnamed: 0         0\n",
      "yearsexperience    0\n",
      "salary             0\n",
      "dtype: int64\n"
     ]
    }
   ],
   "source": [
    "# Check for missing values\n",
    "print(\"Missing values in dataset:\")\n",
    "print(df.isnull().sum())"
   ]
  },
  {
   "cell_type": "markdown",
   "id": "b9a648b4",
   "metadata": {},
   "source": [
    "### Preprocessing Notes\n",
    "\n",
    "- ✅ No missing values were found in the dataset.\n",
    "- ✅ Only one numerical feature (`yearsexperience`) — no need for encoding or feature engineering.\n",
    "- ✅ StandardScaler was used to scale the feature before modeling.\n",
    "- ⚠️ No categorical variables present, so one-hot encoding and label encoding are not applicable.\n"
   ]
  },
  {
   "cell_type": "code",
   "execution_count": 19,
   "id": "e600789c",
   "metadata": {},
   "outputs": [
    {
     "name": "stdout",
     "output_type": "stream",
     "text": [
      "<class 'pandas.core.frame.DataFrame'>\n",
      "RangeIndex: 30 entries, 0 to 29\n",
      "Data columns (total 3 columns):\n",
      " #   Column           Non-Null Count  Dtype  \n",
      "---  ------           --------------  -----  \n",
      " 0   unnamed: 0       30 non-null     int64  \n",
      " 1   yearsexperience  30 non-null     float64\n",
      " 2   salary           30 non-null     float64\n",
      "dtypes: float64(2), int64(1)\n",
      "memory usage: 852.0 bytes\n"
     ]
    },
    {
     "data": {
      "text/html": [
       "<div>\n",
       "<style scoped>\n",
       "    .dataframe tbody tr th:only-of-type {\n",
       "        vertical-align: middle;\n",
       "    }\n",
       "\n",
       "    .dataframe tbody tr th {\n",
       "        vertical-align: top;\n",
       "    }\n",
       "\n",
       "    .dataframe thead th {\n",
       "        text-align: right;\n",
       "    }\n",
       "</style>\n",
       "<table border=\"1\" class=\"dataframe\">\n",
       "  <thead>\n",
       "    <tr style=\"text-align: right;\">\n",
       "      <th></th>\n",
       "      <th>unnamed: 0</th>\n",
       "      <th>yearsexperience</th>\n",
       "      <th>salary</th>\n",
       "    </tr>\n",
       "  </thead>\n",
       "  <tbody>\n",
       "    <tr>\n",
       "      <th>count</th>\n",
       "      <td>30.000000</td>\n",
       "      <td>30.000000</td>\n",
       "      <td>30.000000</td>\n",
       "    </tr>\n",
       "    <tr>\n",
       "      <th>mean</th>\n",
       "      <td>14.500000</td>\n",
       "      <td>5.413333</td>\n",
       "      <td>11.174005</td>\n",
       "    </tr>\n",
       "    <tr>\n",
       "      <th>std</th>\n",
       "      <td>8.803408</td>\n",
       "      <td>2.837888</td>\n",
       "      <td>0.368776</td>\n",
       "    </tr>\n",
       "    <tr>\n",
       "      <th>min</th>\n",
       "      <td>0.000000</td>\n",
       "      <td>1.200000</td>\n",
       "      <td>10.538290</td>\n",
       "    </tr>\n",
       "    <tr>\n",
       "      <th>25%</th>\n",
       "      <td>7.250000</td>\n",
       "      <td>3.300000</td>\n",
       "      <td>10.945928</td>\n",
       "    </tr>\n",
       "    <tr>\n",
       "      <th>50%</th>\n",
       "      <td>14.500000</td>\n",
       "      <td>4.800000</td>\n",
       "      <td>11.085739</td>\n",
       "    </tr>\n",
       "    <tr>\n",
       "      <th>75%</th>\n",
       "      <td>21.750000</td>\n",
       "      <td>7.800000</td>\n",
       "      <td>11.518292</td>\n",
       "    </tr>\n",
       "    <tr>\n",
       "      <th>max</th>\n",
       "      <td>29.000000</td>\n",
       "      <td>10.600000</td>\n",
       "      <td>11.714992</td>\n",
       "    </tr>\n",
       "  </tbody>\n",
       "</table>\n",
       "</div>"
      ],
      "text/plain": [
       "       unnamed: 0  yearsexperience     salary\n",
       "count   30.000000        30.000000  30.000000\n",
       "mean    14.500000         5.413333  11.174005\n",
       "std      8.803408         2.837888   0.368776\n",
       "min      0.000000         1.200000  10.538290\n",
       "25%      7.250000         3.300000  10.945928\n",
       "50%     14.500000         4.800000  11.085739\n",
       "75%     21.750000         7.800000  11.518292\n",
       "max     29.000000        10.600000  11.714992"
      ]
     },
     "execution_count": 19,
     "metadata": {},
     "output_type": "execute_result"
    }
   ],
   "source": [
    "# Basic info\n",
    "df.info()\n",
    "df.describe()"
   ]
  },
  {
   "cell_type": "code",
   "execution_count": 20,
   "id": "cf6bfe93",
   "metadata": {},
   "outputs": [
    {
     "data": {
      "image/png": "[encoded data removed]",
      "text/plain": [
       "<Figure size 640x480 with 1 Axes>"
      ]
     },
     "metadata": {},
     "output_type": "display_data"
    }
   ],
   "source": [
    "# Scatter plot\n",
    "sns.scatterplot(x='yearsexperience', y='salary', data=df)\n",
    "plt.title(\"Years of Experience vs Salary\")\n",
    "plt.show()"
   ]
  },
  {
   "cell_type": "code",
   "execution_count": 21,
   "id": "3f438dc8",
   "metadata": {},
   "outputs": [
    {
     "name": "stdout",
     "output_type": "stream",
     "text": [
      "Number of duplicate rows: 0\n"
     ]
    },
    {
     "data": {
      "image/png": "[encoded data removed]",
      "text/plain": [
       "<Figure size 1000x500 with 1 Axes>"
      ]
     },
     "metadata": {},
     "output_type": "display_data"
    },
    {
     "name": "stdout",
     "output_type": "stream",
     "text": [
      "Number of outliers detected using z-score: 0\n",
      "Outliers removed. New dataset size: 30\n",
      "Skewness of salary: -0.04411217486901834\n",
      "Skewness of salary after transformation: -0.08210777007593048\n",
      "Polynomial features:    yearsexperience  yearsexperience^2    salary\n",
      "0              1.2               1.44  2.449290\n",
      "1              1.4               1.96  2.463077\n",
      "2              1.6               2.56  2.445671\n",
      "3              2.1               4.41  2.457975\n",
      "4              2.3               5.29  2.450484\n"
     ]
    },
    {
     "data": {
      "image/png": "[encoded data removed]",
      "text/plain": [
       "<Figure size 800x600 with 2 Axes>"
      ]
     },
     "metadata": {},
     "output_type": "display_data"
    },
    {
     "name": "stdout",
     "output_type": "stream",
     "text": [
      "Training set shape: (21, 2) (21,)\n",
      "Validation set shape: (4, 2) (4,)\n",
      "Test set shape: (5, 2) (5,)\n",
      "Training set: (21, 2) (21,)\n",
      "Validation set: (4, 2) (4,)\n",
      "Test set: (5, 2) (5,)\n",
      "\n",
      "First 5 rows of scaled training features:\n",
      "   yearsexperience_scaled  yearsexperience^2_scaled\n",
      "0               -1.366667                 -0.963495\n",
      "1               -0.963988                 -0.841312\n",
      "2                0.097619                 -0.151062\n",
      "3               -0.707738                 -0.723573\n",
      "4               -0.268452                 -0.449377\n",
      "\n",
      "First 5 rows of scaled validation features:\n",
      "[[ 1.23244069  1.17707566]\n",
      " [-0.59791677 -0.66359267]\n",
      " [ 0.17083336 -0.08378214]\n",
      " [ 2.00119083  2.42333505]]\n",
      "\n",
      "First 5 rows of scaled test features:\n",
      "[[ 1.41547644  1.44841556]\n",
      " [ 0.02440477 -0.21580249]\n",
      " [-0.41488103 -0.55093107]\n",
      " [ 1.74494079  1.97681431]\n",
      " [-0.30505958 -0.47571755]]\n",
      "\n",
      "Before scaling (raw):\n",
      "    yearsexperience  yearsexperience^2\n",
      "0               1.2               1.44\n",
      "4               2.3               5.29\n",
      "16              5.2              27.04\n",
      "5               3.0               9.00\n",
      "13              4.2              17.64\n",
      "\n",
      "After scaling:\n",
      "   yearsexperience_scaled  yearsexperience^2_scaled\n",
      "0               -1.366667                 -0.963495\n",
      "1               -0.963988                 -0.841312\n",
      "2                0.097619                 -0.151062\n",
      "3               -0.707738                 -0.723573\n",
      "4               -0.268452                 -0.449377\n"
     ]
    }
   ],
   "source": [
    "# Split features and target\n",
    "X = df[['yearsexperience']]\n",
    "y = df['salary']\n",
    "\n",
    "# Check for duplicates\n",
    "duplicates = df.duplicated().sum()\n",
    "print(f\"Number of duplicate rows: {duplicates}\")\n",
    "if duplicates > 0:\n",
    "    df = df.drop_duplicates()\n",
    "    print(f\"Duplicates removed. New dataset size: {df.shape[0]}\")\n",
    "\n",
    "# Check for outliers using boxplot\n",
    "plt.figure(figsize=(10, 5))\n",
    "sns.boxplot(x=df['yearsexperience'])\n",
    "plt.title(\"Boxplot of Years of Experience\")\n",
    "plt.show()\n",
    "\n",
    "# Detect outliers using z-score\n",
    "from scipy import stats\n",
    "z_scores = np.abs(stats.zscore(df['yearsexperience']))\n",
    "outliers = np.where(z_scores > 3)\n",
    "print(f\"Number of outliers detected using z-score: {len(outliers[0])}\")\n",
    "df = df[z_scores < 3]\n",
    "print(f\"Outliers removed. New dataset size: {df.shape[0]}\")\n",
    "\n",
    "# Check for skewness and apply log transform\n",
    "skewness = df['salary'].skew()\n",
    "print(f\"Skewness of salary: {skewness}\")\n",
    "df['salary'] = np.log1p(df['salary'])\n",
    "skewness_after = df['salary'].skew()\n",
    "print(f\"Skewness of salary after transformation: {skewness_after}\")\n",
    "\n",
    "# Feature engineering: create polynomial features\n",
    "from sklearn.preprocessing import PolynomialFeatures\n",
    "poly = PolynomialFeatures(degree=2, include_bias=False)\n",
    "X_poly = poly.fit_transform(df[['yearsexperience']])\n",
    "X_poly = pd.DataFrame(X_poly, columns=['yearsexperience', 'yearsexperience^2'])\n",
    "\n",
    "# Combine features with log-transformed target\n",
    "df_poly = pd.concat([X_poly, df['salary']], axis=1)\n",
    "print(\"Polynomial features:\", df_poly.head())\n",
    "\n",
    "# Check multicollinearity\n",
    "correlation_matrix = df_poly.corr()\n",
    "plt.figure(figsize=(8, 6))\n",
    "sns.heatmap(correlation_matrix, annot=True, cmap='coolwarm')\n",
    "plt.title(\"Correlation Matrix of Polynomial Features\")\n",
    "plt.show()\n",
    "\n",
    "# Re-define features and target from polynomial set\n",
    "X = df_poly[['yearsexperience', 'yearsexperience^2']]\n",
    "y = df_poly['salary']\n",
    "\n",
    "# Split into Train (70%), Validation (15%), Test (15%)\n",
    "X_train, X_temp, y_train, y_temp = train_test_split(X, y, test_size=0.30, random_state=42)\n",
    "X_val, X_test, y_val, y_test = train_test_split(X_temp, y_temp, test_size=0.50, random_state=42)\n",
    "\n",
    "# Confirm shapes\n",
    "print(\"Training set shape:\", X_train.shape, y_train.shape)\n",
    "print(\"Validation set shape:\", X_val.shape, y_val.shape)\n",
    "print(\"Test set shape:\", X_test.shape, y_test.shape)\n",
    "\n",
    "# Feature scaling\n",
    "scaler = StandardScaler()\n",
    "X_train_scaled = scaler.fit_transform(X_train)\n",
    "X_val_scaled = scaler.transform(X_val)\n",
    "X_test_scaled = scaler.transform(X_test)\n",
    "\n",
    "# Confirm splits\n",
    "print(\"Training set:\", X_train.shape, y_train.shape)\n",
    "print(\"Validation set:\", X_val.shape, y_val.shape)\n",
    "print(\"Test set:\", X_test.shape, y_test.shape)\n",
    "\n",
    "# Preview scaled features\n",
    "print(\"\\nFirst 5 rows of scaled training features:\")\n",
    "print(pd.DataFrame(X_train_scaled, columns=['yearsexperience_scaled', 'yearsexperience^2_scaled']).head())\n",
    "\n",
    "print(\"\\nFirst 5 rows of scaled validation features:\")\n",
    "print(X_val_scaled[:5])\n",
    "\n",
    "print(\"\\nFirst 5 rows of scaled test features:\")\n",
    "print(X_test_scaled[:5])\n",
    "\n",
    "# Compare raw vs scaled features\n",
    "print(\"\\nBefore scaling (raw):\")\n",
    "print(X_train.head())\n",
    "\n",
    "print(\"\\nAfter scaling:\")\n",
    "print(pd.DataFrame(X_train_scaled, columns=['yearsexperience_scaled', 'yearsexperience^2_scaled']).head())\n"
   ]
  },
  {
   "cell_type": "markdown",
   "id": "cca27d34",
   "metadata": {},
   "source": [
    "## 🔍 Data Preprocessing Summary\n",
    "\n",
    "To prepare the dataset for machine learning, we applied the following preprocessing steps:\n",
    "\n",
    "### ✅ 1. Feature & Target Definition\n",
    "- Extracted `yearsexperience` as the feature (X) and `salary` as the target variable (y).\n",
    "\n",
    "### ✅ 2. Duplicate Removal\n",
    "- Checked for and removed duplicate rows to ensure data quality.\n",
    "\n",
    "### ✅ 3. Outlier Detection & Removal\n",
    "- Detected potential outliers in `yearsexperience` using:\n",
    "  - Visual: Boxplot\n",
    "  - Statistical: Z-score method (threshold: ±3)\n",
    "- Removed rows where `yearsexperience` was an extreme outlier.\n",
    "\n",
    "### ✅ 4. Skewness Handling\n",
    "- Detected positive skew in the `salary` distribution.\n",
    "- Applied a **log transformation** using `np.log1p()` to normalize the salary distribution.\n",
    "\n",
    "### ✅ 5. Feature Engineering: Polynomial Features\n",
    "- Created a second-degree polynomial feature:  \n",
    "  - `yearsexperience`  \n",
    "  - `yearsexperience²`\n",
    "- This allows the model to learn non-linear relationships between experience and salary.\n",
    "\n",
    "### ✅ 6. Multicollinearity Check\n",
    "- Visualized the correlation matrix of polynomial features to ensure no perfect linear correlation.\n",
    "- No features were dropped since both contribute unique predictive power.\n",
    "\n",
    "### ✅ 7. Train/Validation/Test Split\n",
    "- Dataset was split into:\n",
    "  - **70%** Training\n",
    "  - **15%** Validation\n",
    "  - **15%** Test  \n",
    "- Used `train_test_split()` twice to ensure proper proportions.\n",
    "\n",
    "### ✅ 8. Feature Scaling\n",
    "- Applied `StandardScaler` to normalize the range of the features (mean = 0, std = 1).\n",
    "- Ensures that models like KNN and gradient-based algorithms are not biased by scale.\n",
    "\n",
    "These preprocessing steps help ensure a clean, normalized, and meaningful input for our regression models while preserving data integrity and generalizability.\n"
   ]
  },
  {
   "cell_type": "code",
   "execution_count": 22,
   "id": "c9566ec4",
   "metadata": {},
   "outputs": [],
   "source": [
    "# 💾 Save Preprocessed Dataset\n",
    "# Export the final version of the dataset — which includes:\n",
    "# - Cleaned data (duplicates and outliers removed)\n",
    "# - Log-transformed salary values (to reduce skew)\n",
    "# - Engineered polynomial features (yearsexperience and yearsexperience²)\n",
    "# This CSV can be used for model training, reporting, or as input to other pipelines.\n",
    "df_poly.to_csv(\"preprocessed_salary_data.csv\", index=False)\n",
    "\n"
   ]
  },
  {
   "cell_type": "code",
   "execution_count": 23,
   "id": "e423686a",
   "metadata": {},
   "outputs": [
    {
     "data": {
      "text/html": [
       "<div>\n",
       "<style scoped>\n",
       "    .dataframe tbody tr th:only-of-type {\n",
       "        vertical-align: middle;\n",
       "    }\n",
       "\n",
       "    .dataframe tbody tr th {\n",
       "        vertical-align: top;\n",
       "    }\n",
       "\n",
       "    .dataframe thead th {\n",
       "        text-align: right;\n",
       "    }\n",
       "</style>\n",
       "<table border=\"1\" class=\"dataframe\">\n",
       "  <thead>\n",
       "    <tr style=\"text-align: right;\">\n",
       "      <th></th>\n",
       "      <th>MAE</th>\n",
       "      <th>MSE</th>\n",
       "      <th>R2</th>\n",
       "    </tr>\n",
       "  </thead>\n",
       "  <tbody>\n",
       "    <tr>\n",
       "      <th>LinearRegression</th>\n",
       "      <td>0.007864</td>\n",
       "      <td>0.000085</td>\n",
       "      <td>0.800532</td>\n",
       "    </tr>\n",
       "    <tr>\n",
       "      <th>DecisionTree</th>\n",
       "      <td>0.010617</td>\n",
       "      <td>0.000159</td>\n",
       "      <td>0.628032</td>\n",
       "    </tr>\n",
       "    <tr>\n",
       "      <th>RandomForest</th>\n",
       "      <td>0.008995</td>\n",
       "      <td>0.000096</td>\n",
       "      <td>0.774831</td>\n",
       "    </tr>\n",
       "    <tr>\n",
       "      <th>GradientBoosting</th>\n",
       "      <td>0.010532</td>\n",
       "      <td>0.000156</td>\n",
       "      <td>0.635370</td>\n",
       "    </tr>\n",
       "    <tr>\n",
       "      <th>KNN</th>\n",
       "      <td>0.010042</td>\n",
       "      <td>0.000105</td>\n",
       "      <td>0.755726</td>\n",
       "    </tr>\n",
       "  </tbody>\n",
       "</table>\n",
       "</div>"
      ],
      "text/plain": [
       "                       MAE       MSE        R2\n",
       "LinearRegression  0.007864  0.000085  0.800532\n",
       "DecisionTree      0.010617  0.000159  0.628032\n",
       "RandomForest      0.008995  0.000096  0.774831\n",
       "GradientBoosting  0.010532  0.000156  0.635370\n",
       "KNN               0.010042  0.000105  0.755726"
      ]
     },
     "execution_count": 23,
     "metadata": {},
     "output_type": "execute_result"
    }
   ],
   "source": [
    "# Define a dictionary of regression models to train and compare\n",
    "models = {\n",
    "    \"LinearRegression\": LinearRegression(),  # Simple linear regression model\n",
    "    \"DecisionTree\": DecisionTreeRegressor(random_state=42),  # Tree-based model for regression\n",
    "    \"RandomForest\": RandomForestRegressor(random_state=42),  # Ensemble of decision trees\n",
    "    \"GradientBoosting\": GradientBoostingRegressor(random_state=42),  # Boosted decision trees\n",
    "    \"KNN\": KNeighborsRegressor()  # K-Nearest Neighbors regression\n",
    "}\n",
    "\n",
    "# Dictionary to store evaluation metrics for each model\n",
    "val_scores = {}\n",
    "\n",
    "# Loop through each model, train it, and evaluate on the validation set\n",
    "for name, model in models.items():\n",
    "    model.fit(X_train_scaled, y_train)  # Train model on scaled training data\n",
    "    y_val_pred = model.predict(X_val_scaled)  # Predict on validation data\n",
    "    \n",
    "    # Store evaluation metrics for each model\n",
    "    val_scores[name] = {\n",
    "        \"MAE\": mean_absolute_error(y_val, y_val_pred),  # Mean Absolute Error\n",
    "        \"MSE\": mean_squared_error(y_val, y_val_pred),  # Mean Squared Error\n",
    "        \"R2\": r2_score(y_val, y_val_pred)  # R² Score (how well model fits)\n",
    "    }\n",
    "\n",
    "# Convert metrics dictionary into a DataFrame for easy viewing\n",
    "val_df = pd.DataFrame(val_scores).T\n",
    "val_df  # Display the comparison table of all models\n"
   ]
  },
  {
   "cell_type": "code",
   "execution_count": 24,
   "id": "a0374f23",
   "metadata": {},
   "outputs": [
    {
     "data": {
      "image/png": "[encoded data removed]",
      "text/plain": [
       "<Figure size 1000x600 with 1 Axes>"
      ]
     },
     "metadata": {},
     "output_type": "display_data"
    },
    {
     "name": "stdout",
     "output_type": "stream",
     "text": [
      "Best model: LinearRegression with R² score: 0.8005323281050206\n",
      "Voting Ensemble on Validation Set: {'MAE': 0.009063714067604978, 'MSE': 0.00010817933231651569, 'R2': 0.7475593472441799}\n",
      "Voting Ensemble on Test Set: {'MAE': 0.00265460703854723, 'MSE': 8.783801755887325e-06, 'R2': 0.985670312402441}\n"
     ]
    }
   ],
   "source": [
    "#Visualize the performance of each model using a bar plot\n",
    "val_df.plot(kind='bar', figsize=(10,6), title='Model Comparison on Validation Set')\n",
    "plt.ylabel('Score')\n",
    "plt.xticks(rotation=45)\n",
    "plt.grid(True)\n",
    "plt.show()\n",
    "# Select the best model based on R² score\n",
    "best_model_name = val_df['R2'].idxmax()  # Get the name of the model with the highest R² score\n",
    "best_model = models[best_model_name]  # Retrieve the best model\n",
    "# Train the Voting Regressor (Ensemble of top models)\n",
    "voting = VotingRegressor(estimators=[\n",
    "    ('rf', models[\"RandomForest\"]),\n",
    "    ('gb', models[\"GradientBoosting\"]),\n",
    "    ('lr', models[\"LinearRegression\"])\n",
    "])\n",
    "voting.fit(X_train_scaled, y_train)\n",
    "\n",
    "# Predictions for validation and test\n",
    "y_val_pred_voting = voting.predict(X_val_scaled)\n",
    "y_test_pred_voting = voting.predict(X_test_scaled)\n",
    "\n",
    "# Evaluate performance\n",
    "voting_val = {\n",
    "    \"MAE\": mean_absolute_error(y_val, y_val_pred_voting),\n",
    "    \"MSE\": mean_squared_error(y_val, y_val_pred_voting),\n",
    "    \"R2\": r2_score(y_val, y_val_pred_voting)\n",
    "}\n",
    "\n",
    "voting_test = {\n",
    "    \"MAE\": mean_absolute_error(y_test, y_test_pred_voting),\n",
    "    \"MSE\": mean_squared_error(y_test, y_test_pred_voting),\n",
    "    \"R2\": r2_score(y_test, y_test_pred_voting)\n",
    "}\n",
    "\n",
    "print(f\"Best model: {best_model_name} with R² score: {val_df['R2'].max()}\")  \n",
    "print(\"Voting Ensemble on Validation Set:\", voting_val)\n",
    "print(\"Voting Ensemble on Test Set:\", voting_test)\n",
    "# Print the best model and its score"
   ]
  },
  {
   "cell_type": "markdown",
   "id": "756666a0",
   "metadata": {},
   "source": [
    "### 🏁 Model Evaluation Summary\n",
    "\n",
    "- The best-performing individual model was: `LinearRegression` with an R² of 0.8005.\n",
    "- The ensemble Voting Regressor was also evaluated on both validation and test sets to compare generalization.\n",
    "- All models performed well on this simple regression problem, with linear regression outperforming more complex models due to the linear nature of the underlying relationship.\n"
   ]
  },
  {
   "cell_type": "code",
   "execution_count": 27,
   "id": "e047e340",
   "metadata": {},
   "outputs": [
    {
     "name": "stdout",
     "output_type": "stream",
     "text": [
      "📊 Final Model Comparison Table:\n"
     ]
    },
    {
     "data": {
      "text/html": [
       "<div>\n",
       "<style scoped>\n",
       "    .dataframe tbody tr th:only-of-type {\n",
       "        vertical-align: middle;\n",
       "    }\n",
       "\n",
       "    .dataframe tbody tr th {\n",
       "        vertical-align: top;\n",
       "    }\n",
       "\n",
       "    .dataframe thead th {\n",
       "        text-align: right;\n",
       "    }\n",
       "</style>\n",
       "<table border=\"1\" class=\"dataframe\">\n",
       "  <thead>\n",
       "    <tr style=\"text-align: right;\">\n",
       "      <th></th>\n",
       "      <th>MAE</th>\n",
       "      <th>MSE</th>\n",
       "      <th>R2</th>\n",
       "    </tr>\n",
       "  </thead>\n",
       "  <tbody>\n",
       "    <tr>\n",
       "      <th>LinearRegression</th>\n",
       "      <td>0.007864</td>\n",
       "      <td>0.000085</td>\n",
       "      <td>0.800532</td>\n",
       "    </tr>\n",
       "    <tr>\n",
       "      <th>DecisionTree</th>\n",
       "      <td>0.010617</td>\n",
       "      <td>0.000159</td>\n",
       "      <td>0.628032</td>\n",
       "    </tr>\n",
       "    <tr>\n",
       "      <th>RandomForest</th>\n",
       "      <td>0.008995</td>\n",
       "      <td>0.000096</td>\n",
       "      <td>0.774831</td>\n",
       "    </tr>\n",
       "    <tr>\n",
       "      <th>GradientBoosting</th>\n",
       "      <td>0.010532</td>\n",
       "      <td>0.000156</td>\n",
       "      <td>0.635370</td>\n",
       "    </tr>\n",
       "    <tr>\n",
       "      <th>KNN</th>\n",
       "      <td>0.010042</td>\n",
       "      <td>0.000105</td>\n",
       "      <td>0.755726</td>\n",
       "    </tr>\n",
       "    <tr>\n",
       "      <th>VotingEnsemble_Val</th>\n",
       "      <td>0.009064</td>\n",
       "      <td>0.000108</td>\n",
       "      <td>0.747559</td>\n",
       "    </tr>\n",
       "    <tr>\n",
       "      <th>VotingEnsemble_Test</th>\n",
       "      <td>0.002655</td>\n",
       "      <td>0.000009</td>\n",
       "      <td>0.985670</td>\n",
       "    </tr>\n",
       "  </tbody>\n",
       "</table>\n",
       "</div>"
      ],
      "text/plain": [
       "                          MAE       MSE        R2\n",
       "LinearRegression     0.007864  0.000085  0.800532\n",
       "DecisionTree         0.010617  0.000159  0.628032\n",
       "RandomForest         0.008995  0.000096  0.774831\n",
       "GradientBoosting     0.010532  0.000156  0.635370\n",
       "KNN                  0.010042  0.000105  0.755726\n",
       "VotingEnsemble_Val   0.009064  0.000108  0.747559\n",
       "VotingEnsemble_Test  0.002655  0.000009  0.985670"
      ]
     },
     "metadata": {},
     "output_type": "display_data"
    }
   ],
   "source": [
    "# Add ensemble results to the comparison table\n",
    "comparison_df = val_df.copy()\n",
    "comparison_df.loc['VotingEnsemble_Val'] = voting_val\n",
    "comparison_df.loc['VotingEnsemble_Test'] = voting_test\n",
    "\n",
    "# Save to CSV\n",
    "comparison_df.to_csv(\"comparison_table.csv\")\n",
    "\n",
    "# Display final table\n",
    "print(\"📊 Final Model Comparison Table:\")\n",
    "display(comparison_df)\n"
   ]
  },
  {
   "cell_type": "code",
   "execution_count": 28,
   "id": "8d7f1177",
   "metadata": {},
   "outputs": [
    {
     "data": {
      "image/png": "[encoded data removed]",
      "text/plain": [
       "<Figure size 1000x500 with 1 Axes>"
      ]
     },
     "metadata": {},
     "output_type": "display_data"
    }
   ],
   "source": [
    "comparison_df['R2'].plot(kind='bar', title='Model R² Comparison', figsize=(10,5), color='skyblue')\n",
    "plt.ylabel('R² Score')\n",
    "plt.xticks(rotation=45)\n",
    "plt.grid(True)\n",
    "plt.tight_layout()\n",
    "plt.show()\n"
   ]
  },
  {
   "cell_type": "markdown",
   "id": "6b47312b",
   "metadata": {},
   "source": [
    "# END OF FINAL EXAM\n",
    "# Author: Natalia Solorzano Perez W207818526"
   ]
  },
  {
   "cell_type": "code",
   "execution_count": 7,
   "id": "0221b980",
   "metadata": {},
   "outputs": [
    {
     "name": "stdout",
     "output_type": "stream",
     "text": [
      "[NbConvertApp] Converting notebook DS_WED_21229_FINALEXAM_SolorzanoNatalia_ITAI2377.ipynb to html\n",
      "[NbConvertApp] WARNING | Alternative text is missing on 5 image(s).\n",
      "[NbConvertApp] Writing 485002 bytes to DS_WED_21229_FINALEXAM_SolorzanoNatalia_ITAI2377.html\n"
     ]
    }
   ],
   "source": [
    "!jupyter-nbconvert --to html DS_WED_21229_FINALEXAM_SolorzanoNatalia_ITAI2377.ipynb\n"
   ]
  }
 ],
 "metadata": {
  "kernelspec": {
   "display_name": ".venv",
   "language": "python",
   "name": "python3"
  },
  "language_info": {
   "codemirror_mode": {
    "name": "ipython",
    "version": 3
   },
   "file_extension": ".py",
   "mimetype": "text/x-python",
   "name": "python",
   "nbconvert_exporter": "python",
   "pygments_lexer": "ipython3",
   "version": "3.13.3"
  }
 },
 "nbformat": 4,
 "nbformat_minor": 5
}
